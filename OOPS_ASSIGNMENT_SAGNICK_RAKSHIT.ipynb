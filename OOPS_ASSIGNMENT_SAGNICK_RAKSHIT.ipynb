{
  "nbformat": 4,
  "nbformat_minor": 0,
  "metadata": {
    "colab": {
      "provenance": []
    },
    "kernelspec": {
      "name": "python3",
      "display_name": "Python 3"
    },
    "language_info": {
      "name": "python"
    }
  },
  "cells": [
    {
      "cell_type": "markdown",
      "source": [
        "'''\n",
        "1) What is Object-Oriented Programming (OOP)?\n",
        "\n",
        "Ans - Object-Oriented Programming (OOP) is a programming paradigm based on the concept of \"objects\", which can contain both data (in the form of fields, often called attributes or properties) and code (in the form of methods, which are functions associated with the object).\n",
        "\n",
        "2) What is a class in OOP?\n",
        "\n",
        "Ans - A class in Object-Oriented Programming is a user-defined data structure that acts as a blueprint for creating objects. It defines the attributes (also called properties or fields) and methods (functions) that the objects created from the class will have. Each object is an instance of the class and can hold its own unique data, while sharing the structure and behavior defined by the class. Classes enable encapsulation, modularity, and code reuse in software development.\n",
        "\n",
        "3) What is an object in OOP?\n",
        "\n",
        "Ans - An object represents a real-world entity or concept modeled in code. It holds:\n",
        "\n",
        "State → stored in its attributes (e.g., color, size, name)\n",
        "\n",
        "Behavior → defined by its methods (e.g., move, speak, calculate).\n",
        "\n",
        "4) What is the difference between abstraction and encapsulation?\n",
        "\n",
        "Ans - Abstraction: Hides implementation details, showing only the essential features (e.g., using a car without knowing how the engine works).\n",
        "\n",
        "Encapsulation: Bundles data and methods, and restricts access to internal state (e.g., using private variables).\n",
        "\n",
        "5)  What are dunder methods in Python?\n",
        "\n",
        "Ans - Dunder methods (short for \"double underscore\") like __init__, __str__, and __len__ are special methods used to customize object behavior.\n",
        "\n",
        "Example:"
      ],
      "metadata": {
        "id": "bhbwKauTUQIM"
      }
    },
    {
      "cell_type": "code",
      "source": [
        "class Person:\n",
        "    def __init__(self, name):\n",
        "        self.name = name\n",
        "    def __str__(self):\n",
        "        return f\"Person: {self.name}\"\n"
      ],
      "metadata": {
        "id": "q3AFRW-dWSE-"
      },
      "execution_count": 1,
      "outputs": []
    },
    {
      "cell_type": "markdown",
      "source": [
        "6) Explain the concept of inheritance in OOP.\n",
        "\n",
        "Ans - A class can inherit attributes and methods from another class (parent/base).\n",
        "\n",
        "Promotes code reuse.\n",
        "\n",
        "Example:"
      ],
      "metadata": {
        "id": "urxxSfDhWX5c"
      }
    },
    {
      "cell_type": "code",
      "source": [
        "class Animal:\n",
        "    def speak(self):\n",
        "        print(\"Makes a sound\")\n",
        "\n",
        "class Dog(Animal):\n",
        "    def speak(self):\n",
        "        print(\"Barks\")\n"
      ],
      "metadata": {
        "id": "Eokp9f7UWj6c"
      },
      "execution_count": 2,
      "outputs": []
    },
    {
      "cell_type": "markdown",
      "source": [
        "7) What is polymorphism in OOP?\n",
        "\n",
        "Ans - The ability to use the same interface (method name) for different underlying types.\n",
        "\n",
        "Example:"
      ],
      "metadata": {
        "id": "ud1cYo2UWn5T"
      }
    },
    {
      "cell_type": "code",
      "source": [
        "class Cat:\n",
        "    def speak(self): print(\"Meow\")\n",
        "class Dog:\n",
        "    def speak(self): print(\"Woof\")\n",
        "\n",
        "for pet in [Cat(), Dog()]:\n",
        "    pet.speak()\n"
      ],
      "metadata": {
        "colab": {
          "base_uri": "https://localhost:8080/"
        },
        "id": "8eau0PjDWxLM",
        "outputId": "0a4f757d-6d8c-4def-9d90-c59b9cda6246"
      },
      "execution_count": 3,
      "outputs": [
        {
          "output_type": "stream",
          "name": "stdout",
          "text": [
            "Meow\n",
            "Woof\n"
          ]
        }
      ]
    },
    {
      "cell_type": "markdown",
      "source": [
        "8) How is encapsulation achieved in Python?\n",
        "\n",
        "Ans - a) Using private (__var) and protected (_var) variables.\n",
        "\n",
        "b) Getter/setter methods or @property decorators control access.\n",
        "\n",
        "9) What is a Constructor in Python?\n",
        "\n",
        "Ans -  A constructor is a special method used to initialize a newly created object. It is automatically called when a new instance of a class is created.\n",
        "\n",
        "The constructor sets initial values for object properties.\n",
        "\n",
        "You do not call __init__() directly; Python calls it automatically when an object is created.\n",
        "\n",
        "Defining it is important __init__ or else python provides a default one that does nothing.\n",
        "\n",
        "10) What are class and static methods in Python?\n",
        "\n",
        "Ans - In Python, class methods and static methods are two types of methods that are bound to a class rather than its instances. They are used for different purposes and are defined using decorators:\n",
        "\n",
        "Class Methods – @classmethod\n",
        "\n",
        "Key Features:\n",
        "\n",
        "Takes cls as the first parameter (refers to the class, not the instance).\n",
        "\n",
        "Can access or modify class state (i.e., class variables).\n",
        "\n",
        "Called on the class itself or an instance.\n",
        "\n",
        "Syntax :-\n",
        "\n",
        "class MyClass:\n",
        "    class_var = 0\n",
        "\n",
        "    @classmethod\n",
        "    def set_class_var(cls, value):\n",
        "        cls.class_var = value\n",
        "        \n",
        "Example:"
      ],
      "metadata": {
        "id": "x6DeysGKWzMU"
      }
    },
    {
      "cell_type": "code",
      "source": [
        "class Dog:\n",
        "    species = \"Canis familiaris\"\n",
        "\n",
        "    @classmethod\n",
        "    def change_species(cls, new_species):\n",
        "        cls.species = new_species\n",
        "\n",
        "Dog.change_species(\"Canis lupus\")\n",
        "print(Dog.species)\n"
      ],
      "metadata": {
        "colab": {
          "base_uri": "https://localhost:8080/"
        },
        "id": "2WT6P8SZYjJJ",
        "outputId": "a52f996b-44da-47b4-9408-e45956f0ac72"
      },
      "execution_count": 4,
      "outputs": [
        {
          "output_type": "stream",
          "name": "stdout",
          "text": [
            "Canis lupus\n"
          ]
        }
      ]
    },
    {
      "cell_type": "markdown",
      "source": [
        "Static Methods – @staticmethod\n",
        "\n",
        "Key Features:\n",
        "\n",
        "Does NOT take self or cls as the first argument.\n",
        "\n",
        "Cannot access or modify class or instance state.\n",
        "\n",
        "Behaves like a regular function, just placed inside the class for logical grouping.\n",
        "\n",
        "Syntax:\n",
        "\n",
        "class MyClass:\n",
        "\n",
        "    @staticmethod\n",
        "    def utility_function(x, y):\n",
        "        return x + y\n",
        "\n",
        "Example :-"
      ],
      "metadata": {
        "id": "qnls0_EfYn5L"
      }
    },
    {
      "cell_type": "code",
      "source": [
        "class MathTools:\n",
        "    @staticmethod\n",
        "    def add(x, y):\n",
        "        return x + y\n",
        "\n",
        "print(MathTools.add(3, 4))\n"
      ],
      "metadata": {
        "colab": {
          "base_uri": "https://localhost:8080/"
        },
        "id": "nsUj7BrpY--8",
        "outputId": "a44d1b24-0e89-4095-b226-1ab3047f4edc"
      },
      "execution_count": 5,
      "outputs": [
        {
          "output_type": "stream",
          "name": "stdout",
          "text": [
            "7\n"
          ]
        }
      ]
    },
    {
      "cell_type": "markdown",
      "source": [
        "11) What is method overloading in Python?\n",
        "\n",
        "Ans - Method Overloading is the ability to define multiple methods with the same name but with different parameters (number or type). The last defined method with a given name is used in python.\n",
        "\n",
        "12) What is method overriding in OOP?\n",
        "\n",
        "Ans - Method Overriding is an object-oriented programming (OOP) feature where a child (sub) class provides a specific implementation of a method that is already defined in its parent (super) class.\n",
        "\n",
        "It allows a subclass to customize or replace behavior inherited from the parent class.\n",
        "\n",
        "13) What is a property decorator in Python?\n",
        "\n",
        "Ans - The property decorator in Python is used to turn a method into a \"getter\", so it can be accessed like an attribute, but still execute code like a method.It allows controlled access to private attributes.It can compute values on access.It keeps the interface clean — users access values like attributes, not methods.\n",
        "\n",
        "14) Why is polymorphism important in OOP?\n",
        "\n",
        "Ans - It allows objects of different classes to be treated as if they are of the same class, often through a shared interface or parent class.\n",
        " Promotes code reuse and reduces duplication.\n",
        " Simplifies function and class design.\n",
        " Supports the open/closed principle (extend without modifying).\n",
        " Enables runtime flexibility — behavior decided at run time.\n",
        " Makes code more scalable and maintainable.\n",
        " Helps in designing clean, modular systems.\n",
        " Used in real-world systems like drivers, plugins, and APIs.\n",
        "\n",
        "15) What is an abstract class in Python?\n",
        "\n",
        "Ans - An abstract class is a blueprint for other classes. It cannot be instantiated directly and may contain one or more abstract methods (methods with no implementation).\n",
        "\n",
        "In Python, abstract classes are defined using the abc module (Abstract Base Classes).\n",
        "\n",
        "16) What are the advantages of OOP?\n",
        "\n",
        "Ans - Modularity - Code is organized into classes — easier to manage and scale.\n",
        "\n",
        "Reusability - Use existing classes in new programs via inheritance.\n",
        "\n",
        "Encapsulation - Protects internal state — only relevant parts are exposed.\n",
        "\n",
        "Abstraction - Hides complex details — shows only what's necessary.\n",
        "\n",
        "Polymorphism - One interface, many implementations — flexible and dynamic code.\n",
        "\n",
        "Inheritance - Share common behavior across classes — reduces redundancy.\n",
        "\n",
        "Maintainability - Easy to fix, update, or extend code without breaking other parts.\n",
        "\n",
        "Scalability - OOP handles growing complexity better with clear structure.\n",
        "\n",
        "Code Reorganization - Groups related data and behavior — improves readability.\n",
        "\n",
        "Team Collaboration - Classes can be built and tested independently by different developers.\n",
        "\n",
        "17) What is the difference between a class variable and an instance variable?\n",
        "\n",
        "Ans - Class Variable:-\n",
        "\n",
        "a) Belongs to the class, not to any one object.\n",
        "\n",
        "b) Shared across all instances of the class.\n",
        "\n",
        "c) Defined outside of any method in the class body.\n",
        "\n",
        "d) Changing it affects every object, unless overridden in the instance.\n",
        "\n",
        "Example -"
      ],
      "metadata": {
        "id": "Kye1NnGrZGRD"
      }
    },
    {
      "cell_type": "code",
      "source": [
        "class Dog:\n",
        "    # Class variable (shared by all dogs)\n",
        "    species = \"Canis familiaris\"\n",
        "\n",
        "    def __init__(self, name):\n",
        "        self.name = name  # Instance variable (unique per dog)\n",
        "\n",
        "d1 = Dog(\"Buddy\")\n",
        "d2 = Dog(\"Max\")\n",
        "\n",
        "print(d1.species)\n",
        "print(d2.species)\n",
        "\n",
        "# Change class variable\n",
        "Dog.species = \"Canis lupus\"\n",
        "\n",
        "print(d1.species)\n",
        "print(d2.species)\n"
      ],
      "metadata": {
        "colab": {
          "base_uri": "https://localhost:8080/"
        },
        "id": "GFSwgqrzcqty",
        "outputId": "17190f1c-4ef5-4566-d265-6dab4deb22c7"
      },
      "execution_count": 6,
      "outputs": [
        {
          "output_type": "stream",
          "name": "stdout",
          "text": [
            "Canis familiaris\n",
            "Canis familiaris\n",
            "Canis lupus\n",
            "Canis lupus\n"
          ]
        }
      ]
    },
    {
      "cell_type": "markdown",
      "source": [
        "Instance Variable:-\n",
        "\n",
        "a) Belongs to a specific object (instance).\n",
        "\n",
        "b) Created using self. inside __init__ or other methods.\n",
        "\n",
        "c) Each object gets its own copy.\n",
        "\n",
        "d) Changing it affects only that particular object.\n",
        "\n",
        "Example -"
      ],
      "metadata": {
        "id": "Gb89sqDdcywM"
      }
    },
    {
      "cell_type": "code",
      "source": [
        "print(d1.name)\n",
        "print(d2.name)\n",
        "\n",
        "\n",
        "d1.name = \"Rocky\"\n",
        "\n",
        "print(d1.name)\n",
        "print(d2.name)\n"
      ],
      "metadata": {
        "colab": {
          "base_uri": "https://localhost:8080/"
        },
        "id": "gYdZK0z0dJNX",
        "outputId": "e5b9e0fd-4125-45d6-ea6d-1e93cf9cab35"
      },
      "execution_count": 7,
      "outputs": [
        {
          "output_type": "stream",
          "name": "stdout",
          "text": [
            "Buddy\n",
            "Max\n",
            "Rocky\n",
            "Max\n"
          ]
        }
      ]
    },
    {
      "cell_type": "markdown",
      "source": [
        "18) What is multiple inheritance in Python?\n",
        "\n",
        "Ans - Multiple Inheritance is a feature in Python where a class can inherit from more than one parent class.\n",
        "This allows a child class to combine functionality from multiple base classes.\n",
        "\n",
        "Syntax :\n",
        "\n",
        "class Parent1:\n",
        "    # parent1 methods and attributes\n",
        "\n",
        "class Parent2:\n",
        "    # parent2 methods and attributes\n",
        "\n",
        "class Child(Parent1, Parent2):\n",
        "\n",
        "    # inherits from both Parent1 and Parent"
      ],
      "metadata": {
        "id": "Rcg0M4hKdQlk"
      }
    },
    {
      "cell_type": "code",
      "source": [
        "#example\n",
        "\n",
        "class Father:\n",
        "    def skills(self):\n",
        "        print(\"Father: Gardening, Carpentry\")\n",
        "\n",
        "class Mother:\n",
        "    def skills(self):\n",
        "        print(\"Mother: Cooking, Painting\")\n",
        "\n",
        "class Child(Father, Mother):\n",
        "    def skills(self):\n",
        "        print(\"Child:\", end=\" \")\n",
        "        super().skills()\n",
        "\n",
        "c = Child()\n",
        "c.skills()  # Output: Child: Gardening, Carpentry\n"
      ],
      "metadata": {
        "colab": {
          "base_uri": "https://localhost:8080/"
        },
        "id": "yVXeLLJzdmii",
        "outputId": "36a1d202-83ad-4be6-a2d2-414c5ab95140"
      },
      "execution_count": 8,
      "outputs": [
        {
          "output_type": "stream",
          "name": "stdout",
          "text": [
            "Child: Father: Gardening, Carpentry\n"
          ]
        }
      ]
    },
    {
      "cell_type": "markdown",
      "source": [
        "19) Explain the purpose of ‘’__str__’ and ‘__repr__’ ‘ methods in Python?\n",
        "\n",
        "Ans - Both __str__() and __repr__() are special (dunder) methods used to define how an object should be represented as a string.\n",
        "\n",
        "1. __str__() → User-Friendly String\n",
        "\n",
        "It is called by the str() function and print().\n",
        "\n",
        "It is meant for end users.\n",
        "\n",
        "Should return a readable, nicely formatted string.\n",
        "\n",
        " 2. __repr__() → Developer-Friendly Representation\n",
        "\n",
        "It is called by repr(), and also when inspecting in the console.\n",
        "\n",
        "It is meant for developers/debugging.\n",
        "\n",
        "It should return a string that could recreate the object, if possible.\n",
        "\n",
        "20) What is the significance of the ‘super()’ function in Python?\n",
        "\n",
        "Ans - The super() function in Python is used to call methods from a parent (super) class.\n",
        "It’s especially useful in inheritance — when a subclass wants to use or extend behavior from its superclass.\n",
        "\n",
        "Key Uses of super():\n",
        "\n",
        "Call parent class constructor.\n",
        "\n",
        "Call parent methods in overridden methods.\n",
        "\n",
        "Support multiple inheritance with proper method resolution.\n",
        "\n",
        "Example: Calling Parent Constructor\n",
        "\n",
        "\n"
      ],
      "metadata": {
        "id": "5GUJCzQ8dsYV"
      }
    },
    {
      "cell_type": "code",
      "source": [
        "class Animal:\n",
        "    def __init__(self, name):\n",
        "        self.name = name\n",
        "\n",
        "class Dog(Animal):\n",
        "    def __init__(self, name, breed):\n",
        "        super().__init__(name)\n",
        "        self.breed = breed\n",
        "\n",
        "d = Dog(\"Buddy\", \"Labrador\")\n",
        "print(d.name)\n",
        "print(d.breed)\n"
      ],
      "metadata": {
        "colab": {
          "base_uri": "https://localhost:8080/"
        },
        "id": "9-4uEz8qe-bx",
        "outputId": "10d88b22-9d64-40a1-ce26-ef2bee7714d5"
      },
      "execution_count": 9,
      "outputs": [
        {
          "output_type": "stream",
          "name": "stdout",
          "text": [
            "Buddy\n",
            "Labrador\n"
          ]
        }
      ]
    },
    {
      "cell_type": "code",
      "source": [
        "#Example: Extending a Method\n",
        "\n",
        "class A:\n",
        "    def greet(self):\n",
        "        print(\"Hello from A\")\n",
        "\n",
        "class B(A):\n",
        "    def greet(self):\n",
        "        super().greet()\n",
        "        print(\"Hello from B\")\n",
        "\n",
        "b = B()\n",
        "b.greet()\n"
      ],
      "metadata": {
        "colab": {
          "base_uri": "https://localhost:8080/"
        },
        "id": "d8DRNcMQfLct",
        "outputId": "e859435a-d64d-4dbd-fe2b-1442dad4af21"
      },
      "execution_count": 10,
      "outputs": [
        {
          "output_type": "stream",
          "name": "stdout",
          "text": [
            "Hello from A\n",
            "Hello from B\n"
          ]
        }
      ]
    },
    {
      "cell_type": "markdown",
      "source": [
        "21) What is the significance of the __del__ method in Python?\n",
        "\n",
        "Ans - The __del__() method in Python is a special method called a destructor.\n",
        "It is automatically invoked when an object is about to be destroyed or garbage collected.\n",
        "\n",
        "Purpose of __del__():\n",
        "\n",
        "To perform cleanup tasks when an object is deleted.\n",
        "\n",
        "To release resources like files, network connections, or memory.\n",
        "\n",
        "Acts as the opposite of __init__() (constructor).\n",
        "\n",
        "22)  What is the difference between staticmethod and classmethod in Python?\n",
        "\n",
        "Ans - staticmethod:-\n",
        "\n",
        "Does not take self or cls as the first argument.\n",
        "\n",
        "Cannot access instance variables.\n",
        "\n",
        "Cannot access class variables.\n",
        "\n",
        "Works like a regular function, but grouped inside a class.\n",
        "\n",
        "Used for utility/helper methods."
      ],
      "metadata": {
        "id": "4KpIAXcSfRIu"
      }
    },
    {
      "cell_type": "code",
      "source": [
        "#Example -\n",
        "\n",
        "class Math:\n",
        "    @staticmethod\n",
        "    def square(x):\n",
        "        return x * x\n",
        "\n",
        "print(Math.square(2013))\n"
      ],
      "metadata": {
        "colab": {
          "base_uri": "https://localhost:8080/"
        },
        "id": "FYsR1ZhdgLH_",
        "outputId": "a1f98eb9-fae8-4d47-b719-ba009e3d94e3"
      },
      "execution_count": 11,
      "outputs": [
        {
          "output_type": "stream",
          "name": "stdout",
          "text": [
            "4052169\n"
          ]
        }
      ]
    },
    {
      "cell_type": "markdown",
      "source": [
        "classmethod:-\n",
        "\n",
        "Takes cls as the first argument (refers to the class).\n",
        "\n",
        "Can access or modify class-level data.\n",
        "\n",
        "Cannot access instance variables directly.\n",
        "\n",
        "Used for factory methods or class-wide operations."
      ],
      "metadata": {
        "id": "p40_NtP_gTAN"
      }
    },
    {
      "cell_type": "code",
      "source": [
        "#Example -\n",
        "\n",
        "class Counter:\n",
        "    count = 0\n",
        "\n",
        "    def __init__(self):\n",
        "        Counter.count += 1\n",
        "\n",
        "    @classmethod\n",
        "    def get_count(cls):\n",
        "        return cls.count\n",
        "\n",
        "print(Counter.get_count())\n",
        "c1 = Counter()\n",
        "c2 = Counter()\n",
        "print(Counter.get_count())\n"
      ],
      "metadata": {
        "colab": {
          "base_uri": "https://localhost:8080/"
        },
        "id": "5ZPf2ts7garl",
        "outputId": "eeb9eee4-8f62-48dd-92b8-2f40bd3f4771"
      },
      "execution_count": 12,
      "outputs": [
        {
          "output_type": "stream",
          "name": "stdout",
          "text": [
            "0\n",
            "2\n"
          ]
        }
      ]
    },
    {
      "cell_type": "markdown",
      "source": [
        "23) How does polymorphism work in Python with inheritance?\n",
        "\n",
        "Ans - Polymorphism means one interface, many forms — in Python, it lets objects of different classes respond to the same method name in different ways.\n",
        "\n",
        "When used with inheritance, polymorphism allows child classes to override methods of a parent class, and behave differently when accessed through a common interface.\n",
        "\n",
        "24) What is method chaining in Python OOP?\n",
        "\n",
        "Ans - Method Chaining is a technique where you call multiple methods on the same object in a single line, one after the other.\n",
        "\n",
        "25) What is the purpose of the __call__ method in Python?\n",
        "\n",
        "Ans - The __call__() method allows instances of a class to be called like a function.\n",
        "It turns objects into callable objects.\n",
        "\n",
        "Purpose:\n",
        "\n",
        "To make an object behave like a function.\n",
        "\n",
        "To add custom behavior when the object is called.\n",
        "\n",
        "Useful in function wrappers, decorators, and stateful operations.\n",
        "\n"
      ],
      "metadata": {
        "id": "QkjUPAs2gmUz"
      }
    },
    {
      "cell_type": "code",
      "source": [
        "#Example -\n",
        "\n",
        "class Greeter:\n",
        "    def __init__(self, name):\n",
        "        self.name = name\n",
        "\n",
        "    def __call__(self):\n",
        "        print(f\"Hello, {self.name}!\")\n",
        "\n",
        "g = Greeter(\"Rakshit\")\n",
        "g()\n"
      ],
      "metadata": {
        "colab": {
          "base_uri": "https://localhost:8080/"
        },
        "id": "WrNxacMehRBG",
        "outputId": "3f8e4a71-8eed-4393-c084-d7dbb14392a1"
      },
      "execution_count": 14,
      "outputs": [
        {
          "output_type": "stream",
          "name": "stdout",
          "text": [
            "Hello, Rakshit!\n"
          ]
        }
      ]
    },
    {
      "cell_type": "markdown",
      "source": [
        "Practical Questions\n",
        "\n",
        "1)  Create a parent class Animal with a method speak() that prints a generic message. Create a child class Dog\n",
        "that overrides the speak() method to print \"Bark!\"."
      ],
      "metadata": {
        "id": "0avK-lrhhfDK"
      }
    },
    {
      "cell_type": "code",
      "source": [
        "# Parent class\n",
        "class Animal:\n",
        "    def speak(self):\n",
        "        print(\"The animal makes a sound.\")\n",
        "\n",
        "# Child class\n",
        "class Dog(Animal):\n",
        "    def speak(self):\n",
        "        print(\"Bark!\")\n",
        "\n",
        "\n",
        "a = Animal()\n",
        "a.speak()\n",
        "\n",
        "d = Dog()\n",
        "d.speak()\n"
      ],
      "metadata": {
        "colab": {
          "base_uri": "https://localhost:8080/"
        },
        "id": "hZ6stgyyhqRD",
        "outputId": "6b6a8282-a341-45d2-f06a-0432b4ddba71"
      },
      "execution_count": 15,
      "outputs": [
        {
          "output_type": "stream",
          "name": "stdout",
          "text": [
            "The animal makes a sound.\n",
            "Bark!\n"
          ]
        }
      ]
    },
    {
      "cell_type": "markdown",
      "source": [
        "2) Write a program to create an abstract class Shape with a method area(). Derive classes Circle and Rectangle\n",
        "from it and implement the area() method in both."
      ],
      "metadata": {
        "id": "b4YXEyJ8hv0V"
      }
    },
    {
      "cell_type": "code",
      "source": [
        "from abc import ABC, abstractmethod\n",
        "import math\n",
        "\n",
        "# Abstract base class\n",
        "class Shape(ABC):\n",
        "    @abstractmethod\n",
        "    def area(self):\n",
        "        pass\n",
        "\n",
        "# Derived class: Circle\n",
        "class Circle(Shape):\n",
        "    def __init__(self, radius):\n",
        "        self.radius = radius\n",
        "\n",
        "    def area(self):\n",
        "        return math.pi * self.radius ** 2\n",
        "\n",
        "# Derived class: Rectangle\n",
        "class Rectangle(Shape):\n",
        "    def __init__(self, width, height):\n",
        "        self.width = width\n",
        "        self.height = height\n",
        "\n",
        "    def area(self):\n",
        "        return self.width * self.height\n",
        "\n",
        "\n",
        "circle = Circle(5)\n",
        "rectangle = Rectangle(4, 6)\n",
        "\n",
        "print(\"Circle area:\", circle.area())\n",
        "print(\"Rectangle area:\", rectangle.area())\n"
      ],
      "metadata": {
        "colab": {
          "base_uri": "https://localhost:8080/"
        },
        "id": "J7Cl4LC5hy9O",
        "outputId": "9237e460-3af9-43d5-fa8b-1643f3d634a1"
      },
      "execution_count": 16,
      "outputs": [
        {
          "output_type": "stream",
          "name": "stdout",
          "text": [
            "Circle area: 78.53981633974483\n",
            "Rectangle area: 24\n"
          ]
        }
      ]
    },
    {
      "cell_type": "markdown",
      "source": [
        "3)  Implement a multi-level inheritance scenario where a class Vehicle has an attribute type. Derive a class Car\n",
        "and further derive a class ElectricCar that adds a battery attribute."
      ],
      "metadata": {
        "id": "eZ0DpWYXh80k"
      }
    },
    {
      "cell_type": "code",
      "source": [
        "# Base class\n",
        "class Vehicle:\n",
        "    def __init__(self, vehicle_type):\n",
        "        self.vehicle_type = vehicle_type\n",
        "\n",
        "# Derived class from Vehicle\n",
        "class Car(Vehicle):\n",
        "    def __init__(self, vehicle_type, brand):\n",
        "        super().__init__(vehicle_type)\n",
        "        self.brand = brand\n",
        "\n",
        "# Further derived class from Car\n",
        "class ElectricCar(Car):\n",
        "    def __init__(self, vehicle_type, brand, battery_capacity):\n",
        "        super().__init__(vehicle_type, brand)\n",
        "        self.battery_capacity = battery_capacity\n",
        "\n",
        "    def display_info(self):\n",
        "        print(f\"Type: {self.vehicle_type}\")\n",
        "        print(f\"Brand: {self.brand}\")\n",
        "        print(f\"Battery Capacity: {self.battery_capacity} kWh\")\n",
        "\n",
        "tesla = ElectricCar(\"Electric\", \"Tesla\", 75)\n",
        "tesla.display_info()\n"
      ],
      "metadata": {
        "colab": {
          "base_uri": "https://localhost:8080/"
        },
        "id": "O-R4U7zdiDPX",
        "outputId": "1d6c997b-7a8d-4b56-fe3d-2d0cd2ebeaef"
      },
      "execution_count": 17,
      "outputs": [
        {
          "output_type": "stream",
          "name": "stdout",
          "text": [
            "Type: Electric\n",
            "Brand: Tesla\n",
            "Battery Capacity: 75 kWh\n"
          ]
        }
      ]
    },
    {
      "cell_type": "markdown",
      "source": [
        "4) Demonstrate polymorphism by creating a base class Bird with a method fly(). Create two derived classes\n",
        "Sparrow and Penguin that override the fly() method.\n"
      ],
      "metadata": {
        "id": "WfjfFfuqiGaG"
      }
    },
    {
      "cell_type": "code",
      "source": [
        "# Base class\n",
        "class Bird:\n",
        "    def fly(self):\n",
        "        print(\"Some bird is flying...\")\n",
        "\n",
        "# Derived class 1\n",
        "class Sparrow(Bird):\n",
        "    def fly(self):\n",
        "        print(\"Sparrow flies high in the sky.\")\n",
        "\n",
        "# Derived class 2\n",
        "class Penguin(Bird):\n",
        "    def fly(self):\n",
        "        print(\"Penguins can't fly, they swim.\")\n",
        "\n",
        "# Function to demonstrate polymorphism\n",
        "def bird_flight(bird):\n",
        "    bird.fly()\n",
        "\n",
        "\n",
        "sparrow = Sparrow()\n",
        "penguin = Penguin()\n",
        "\n",
        "bird_flight(sparrow)\n",
        "bird_flight(penguin)"
      ],
      "metadata": {
        "colab": {
          "base_uri": "https://localhost:8080/"
        },
        "id": "M03Nld6qiJW2",
        "outputId": "028e0894-3c60-48e5-dfb6-fa5dc62029c8"
      },
      "execution_count": 18,
      "outputs": [
        {
          "output_type": "stream",
          "name": "stdout",
          "text": [
            "Sparrow flies high in the sky.\n",
            "Penguins can't fly, they swim.\n"
          ]
        }
      ]
    },
    {
      "cell_type": "markdown",
      "source": [
        "5) Write a program to demonstrate encapsulation by creating a class BankAccount with private attributes\n",
        "balance and methods to deposit, withdraw, and check balance."
      ],
      "metadata": {
        "id": "HgWG4vnpiSV1"
      }
    },
    {
      "cell_type": "code",
      "source": [
        "class BankAccount:\n",
        "    def __init__(self, initial_balance=0):\n",
        "        self.__balance = initial_balance  # Private attribute\n",
        "\n",
        "    def deposit(self, amount):\n",
        "        if amount > 0:\n",
        "            self.__balance += amount\n",
        "            print(f\"Deposited: ${amount}\")\n",
        "        else:\n",
        "            print(\"Deposit amount must be positive.\")\n",
        "\n",
        "    def withdraw(self, amount):\n",
        "        if 0 < amount <= self.__balance:\n",
        "            self.__balance -= amount\n",
        "            print(f\"Withdrew: ${amount}\")\n",
        "        else:\n",
        "            print(\"Insufficient funds or invalid amount.\")\n",
        "\n",
        "    def check_balance(self):\n",
        "        print(f\"Current Balance: ${self.__balance}\")\n",
        "\n",
        "# Example usage\n",
        "account = BankAccount(100)\n",
        "account.check_balance()\n",
        "\n",
        "account.deposit(50)\n",
        "account.check_balance()\n",
        "\n",
        "account.withdraw(30)\n",
        "account.check_balance()\n",
        "\n",
        "\n",
        "\n"
      ],
      "metadata": {
        "colab": {
          "base_uri": "https://localhost:8080/"
        },
        "id": "J9R8xbW3iV03",
        "outputId": "08969b4b-cf1f-44f1-f485-710196977aec"
      },
      "execution_count": 19,
      "outputs": [
        {
          "output_type": "stream",
          "name": "stdout",
          "text": [
            "Current Balance: $100\n",
            "Deposited: $50\n",
            "Current Balance: $150\n",
            "Withdrew: $30\n",
            "Current Balance: $120\n"
          ]
        }
      ]
    },
    {
      "cell_type": "markdown",
      "source": [
        "6) Demonstrate runtime polymorphism using a method play() in a base class Instrument. Derive classes Guitar\n",
        "and Piano that implement their own version of play()."
      ],
      "metadata": {
        "id": "7z3z4rgLih1V"
      }
    },
    {
      "cell_type": "code",
      "source": [
        "# Base class\n",
        "class Instrument:\n",
        "    def play(self):\n",
        "        print(\"Playing an instrument...\")\n",
        "\n",
        "# Derived class 1\n",
        "class Guitar(Instrument):\n",
        "    def play(self):\n",
        "        print(\"Strumming the guitar.\")\n",
        "\n",
        "# Derived class 2\n",
        "class Piano(Instrument):\n",
        "    def play(self):\n",
        "        print(\"Playing the piano.\")\n",
        "\n",
        "# Function demonstrating runtime polymorphism\n",
        "def start_playing(instrument: Instrument):\n",
        "    instrument.play()\n",
        "\n",
        "# Example usage\n",
        "g = Guitar()\n",
        "p = Piano()\n",
        "\n",
        "start_playing(g)\n",
        "start_playing(p)\n"
      ],
      "metadata": {
        "colab": {
          "base_uri": "https://localhost:8080/"
        },
        "id": "0K6c3v99ipfI",
        "outputId": "9c1000f6-f9c7-460f-d8a1-44d69bf2c614"
      },
      "execution_count": 20,
      "outputs": [
        {
          "output_type": "stream",
          "name": "stdout",
          "text": [
            "Strumming the guitar.\n",
            "Playing the piano.\n"
          ]
        }
      ]
    },
    {
      "cell_type": "markdown",
      "source": [
        "7) Create a class MathOperations with a class method add_numbers() to add two numbers and a static\n",
        "method subtract_numbers() to subtract two numbers.\n",
        "\n",
        "\n"
      ],
      "metadata": {
        "id": "qczLLrwhivxt"
      }
    },
    {
      "cell_type": "code",
      "source": [
        "class MathOperations:\n",
        "    @classmethod\n",
        "    def add_numbers(cls, a, b):\n",
        "        return a + b\n",
        "\n",
        "    @staticmethod\n",
        "    def subtract_numbers(a, b):\n",
        "        return a - b\n",
        "\n",
        "# Example usage\n",
        "sum_result = MathOperations.add_numbers(10, 5)\n",
        "diff_result = MathOperations.subtract_numbers(10, 5)\n",
        "\n",
        "print(\"Sum:\", sum_result)\n",
        "print(\"Difference:\", diff_result)\n"
      ],
      "metadata": {
        "colab": {
          "base_uri": "https://localhost:8080/"
        },
        "id": "1wyiIvWji0U3",
        "outputId": "da9a0b4f-c2d5-4302-b8de-325a8037f721"
      },
      "execution_count": 21,
      "outputs": [
        {
          "output_type": "stream",
          "name": "stdout",
          "text": [
            "Sum: 15\n",
            "Difference: 5\n"
          ]
        }
      ]
    },
    {
      "cell_type": "markdown",
      "source": [
        "8)  Implement a class Person with a class method to count the total number of persons created."
      ],
      "metadata": {
        "id": "AKvXRjOki9vG"
      }
    },
    {
      "cell_type": "code",
      "source": [
        "class Person:\n",
        "    count = 0\n",
        "\n",
        "    def __init__(self, name):\n",
        "        self.name = name\n",
        "        Person.count += 1  # Increment count when a new object is created\n",
        "\n",
        "    @classmethod\n",
        "    def total_persons(cls):\n",
        "        return cls.count\n",
        "\n",
        "# Example usage\n",
        "p1 = Person(\"Alice\")\n",
        "p2 = Person(\"Bob\")\n",
        "p3 = Person(\"Charlie\")\n",
        "\n",
        "print(\"Total persons created:\", Person.total_persons())\n"
      ],
      "metadata": {
        "colab": {
          "base_uri": "https://localhost:8080/"
        },
        "id": "A5dr-jbfjCRG",
        "outputId": "199a830d-c4fc-4de1-d8f9-e82b8e4094ed"
      },
      "execution_count": 22,
      "outputs": [
        {
          "output_type": "stream",
          "name": "stdout",
          "text": [
            "Total persons created: 3\n"
          ]
        }
      ]
    },
    {
      "cell_type": "markdown",
      "source": [
        "9)  Write a class Fraction with attributes numerator and denominator. Override the str method to display the\n",
        "fraction as \"numerator/denominator\"."
      ],
      "metadata": {
        "id": "r-sW-vmnjKke"
      }
    },
    {
      "cell_type": "code",
      "source": [
        "class Fraction:\n",
        "    def __init__(self, numerator, denominator):\n",
        "        if denominator == 0:\n",
        "            raise ValueError(\"Denominator cannot be zero.\")\n",
        "        self.numerator = numerator\n",
        "        self.denominator = denominator\n",
        "\n",
        "    def __str__(self):\n",
        "        return f\"{self.numerator}/{self.denominator}\"\n",
        "\n",
        "# Example usage\n",
        "f1 = Fraction(3, 4)\n",
        "f2 = Fraction(5, 1)\n",
        "\n",
        "print(f1)\n",
        "print(f2)\n"
      ],
      "metadata": {
        "colab": {
          "base_uri": "https://localhost:8080/"
        },
        "id": "0PykqvYzjPxX",
        "outputId": "8b1cdcf7-2dc0-4539-8f75-a4d878b59899"
      },
      "execution_count": 23,
      "outputs": [
        {
          "output_type": "stream",
          "name": "stdout",
          "text": [
            "3/4\n",
            "5/1\n"
          ]
        }
      ]
    },
    {
      "cell_type": "markdown",
      "source": [
        "10) Demonstrate operator overloading by creating a class Vector and overriding the add method to add two\n",
        "vectors."
      ],
      "metadata": {
        "id": "OdFwKU7ojS5W"
      }
    },
    {
      "cell_type": "code",
      "source": [
        "class Vector:\n",
        "    def __init__(self, x, y):\n",
        "        self.x = x\n",
        "        self.y = y\n",
        "\n",
        "    # Overloading the + operator\n",
        "    def __add__(self, other):\n",
        "        if not isinstance(other, Vector):\n",
        "            raise TypeError(\"Operands must be of type Vector\")\n",
        "        return Vector(self.x + other.x, self.y + other.y)\n",
        "\n",
        "    def __str__(self):\n",
        "        return f\"({self.x}, {self.y})\"\n",
        "\n",
        "# Example usage\n",
        "v1 = Vector(2, 3)\n",
        "v2 = Vector(4, 1)\n",
        "v3 = v1 + v2\n",
        "\n",
        "print(\"v1:\", v1)\n",
        "print(\"v2:\", v2)\n",
        "print(\"v1 + v2 =\", v3)\n"
      ],
      "metadata": {
        "colab": {
          "base_uri": "https://localhost:8080/"
        },
        "id": "DEE6D1aXjb9W",
        "outputId": "632abbc4-256c-45df-8beb-d0c16a254ec6"
      },
      "execution_count": 24,
      "outputs": [
        {
          "output_type": "stream",
          "name": "stdout",
          "text": [
            "v1: (2, 3)\n",
            "v2: (4, 1)\n",
            "v1 + v2 = (6, 4)\n"
          ]
        }
      ]
    },
    {
      "cell_type": "markdown",
      "source": [
        "11)  Create a class Person with attributes name and age. Add a method greet() that prints \"Hello, my name is\n",
        "{name} and I am {age} years old.\""
      ],
      "metadata": {
        "id": "nUIj__fNjlbG"
      }
    },
    {
      "cell_type": "code",
      "source": [
        "class Person:\n",
        "    def __init__(self, name, age):\n",
        "        self.name = name\n",
        "        self.age = age\n",
        "\n",
        "    def greet(self):\n",
        "        print(f\"Hello, my name is {self.name} and I am {self.age} years old.\")\n",
        "\n",
        "# Example usage\n",
        "p1 = Person(\"Alice\", 30)\n",
        "p1.greet()\n"
      ],
      "metadata": {
        "colab": {
          "base_uri": "https://localhost:8080/"
        },
        "id": "TmXyirYujoM6",
        "outputId": "06b52339-749f-4fcb-8912-6a9a31a0a794"
      },
      "execution_count": 25,
      "outputs": [
        {
          "output_type": "stream",
          "name": "stdout",
          "text": [
            "Hello, my name is Alice and I am 30 years old.\n"
          ]
        }
      ]
    },
    {
      "cell_type": "markdown",
      "source": [
        "12)  Implement a class Student with attributes name and grades. Create a method average_grade() to compute\n",
        "the average of the grades."
      ],
      "metadata": {
        "id": "CAr3_QXMjtff"
      }
    },
    {
      "cell_type": "code",
      "source": [
        "class Student:\n",
        "    def __init__(self, name, grades):\n",
        "        self.name = name\n",
        "        self.grades = grades\n",
        "\n",
        "    def average_grade(self):\n",
        "        if not self.grades:\n",
        "            return 0\n",
        "        return sum(self.grades) / len(self.grades)\n",
        "\n",
        "# Example usage\n",
        "s1 = Student(\"John\", [85, 90, 78, 92])\n",
        "print(f\"{s1.name}'s average grade: {s1.average_grade():.2f}\")\n"
      ],
      "metadata": {
        "colab": {
          "base_uri": "https://localhost:8080/"
        },
        "id": "Qs_z5M8wjxYg",
        "outputId": "f8ee39b1-1c47-46ea-b334-614557b38e37"
      },
      "execution_count": 26,
      "outputs": [
        {
          "output_type": "stream",
          "name": "stdout",
          "text": [
            "John's average grade: 86.25\n"
          ]
        }
      ]
    },
    {
      "cell_type": "markdown",
      "source": [
        "13)  Create a class Rectangle with methods set_dimensions() to set the dimensions and area() to calculate the\n",
        "area."
      ],
      "metadata": {
        "id": "IpFu2ouvj4wn"
      }
    },
    {
      "cell_type": "code",
      "source": [
        "class Rectangle:\n",
        "    def __init__(self):\n",
        "        self.length = 0\n",
        "        self.width = 0\n",
        "\n",
        "    def set_dimensions(self, length, width):\n",
        "        self.length = length\n",
        "        self.width = width\n",
        "\n",
        "    def area(self):\n",
        "        return self.length * self.width\n",
        "\n",
        "# Example usage\n",
        "rect = Rectangle()\n",
        "rect.set_dimensions(5, 3)\n",
        "print(\"Area of rectangle:\", rect.area())\n"
      ],
      "metadata": {
        "colab": {
          "base_uri": "https://localhost:8080/"
        },
        "id": "ak8dEu4Fj8N3",
        "outputId": "b27bf576-c82d-4ec7-a795-ae5ac73e57b0"
      },
      "execution_count": 27,
      "outputs": [
        {
          "output_type": "stream",
          "name": "stdout",
          "text": [
            "Area of rectangle: 15\n"
          ]
        }
      ]
    },
    {
      "cell_type": "markdown",
      "source": [
        "14) Create a class Employee with a method calculate_salary() that computes the salary based on hours worked\n",
        "and hourly rate. Create a derived class Manager that adds a bonus to the salary."
      ],
      "metadata": {
        "id": "QGP3b0hqkAiG"
      }
    },
    {
      "cell_type": "code",
      "source": [
        "# Base class\n",
        "class Employee:\n",
        "    def __init__(self, name, hours_worked, hourly_rate):\n",
        "        self.name = name\n",
        "        self.hours_worked = hours_worked\n",
        "        self.hourly_rate = hourly_rate\n",
        "\n",
        "    def calculate_salary(self):\n",
        "        return self.hours_worked * self.hourly_rate\n",
        "\n",
        "# Derived class\n",
        "class Manager(Employee):\n",
        "    def __init__(self, name, hours_worked, hourly_rate, bonus):\n",
        "        super().__init__(name, hours_worked, hourly_rate)\n",
        "        self.bonus = bonus\n",
        "\n",
        "    def calculate_salary(self):\n",
        "        base_salary = super().calculate_salary()\n",
        "        return base_salary + self.bonus\n",
        "\n",
        "# Example usage\n",
        "emp = Employee(\"Alice\", 40, 20)\n",
        "print(f\"{emp.name}'s salary: ${emp.calculate_salary()}\")\n",
        "\n",
        "mgr = Manager(\"Bob\", 40, 30, 500)\n",
        "print(f\"{mgr.name}'s salary: ${mgr.calculate_salary()}\")\n"
      ],
      "metadata": {
        "colab": {
          "base_uri": "https://localhost:8080/"
        },
        "id": "4PkDhC4KkDwP",
        "outputId": "fbb45897-f86b-4c85-92d4-71edb7b88fc7"
      },
      "execution_count": 28,
      "outputs": [
        {
          "output_type": "stream",
          "name": "stdout",
          "text": [
            "Alice's salary: $800\n",
            "Bob's salary: $1700\n"
          ]
        }
      ]
    },
    {
      "cell_type": "markdown",
      "source": [
        "15) Create a class Product with attributes name, price, and quantity. Implement a method total_price() that\n",
        "calculates the total price of the product.\n"
      ],
      "metadata": {
        "id": "i3LM2OTgkLe3"
      }
    },
    {
      "cell_type": "code",
      "source": [
        "class Product:\n",
        "    def __init__(self, name, price, quantity):\n",
        "        self.name = name\n",
        "        self.price = price  # Price per unit\n",
        "        self.quantity = quantity  # Number of units\n",
        "\n",
        "    def total_price(self):\n",
        "        return self.price * self.quantity\n",
        "\n",
        "# Example usage\n",
        "item = Product(\"Laptop\", 1000, 3)\n",
        "print(f\"Total price for {item.quantity} {item.name}(s): ${item.total_price()}\")\n",
        "\n"
      ],
      "metadata": {
        "colab": {
          "base_uri": "https://localhost:8080/"
        },
        "id": "VHzpIcpYkULp",
        "outputId": "fdd25565-3f86-4ff6-cf1f-684444ed877d"
      },
      "execution_count": 29,
      "outputs": [
        {
          "output_type": "stream",
          "name": "stdout",
          "text": [
            "Total price for 3 Laptop(s): $3000\n"
          ]
        }
      ]
    },
    {
      "cell_type": "markdown",
      "source": [
        "16) Create a class Animal with an abstract method sound(). Create two derived classes Cow and Sheep that\n",
        "implement the sound() method."
      ],
      "metadata": {
        "id": "2E-3Z52VkXam"
      }
    },
    {
      "cell_type": "code",
      "source": [
        "from abc import ABC, abstractmethod\n",
        "\n",
        "# Abstract base class\n",
        "class Animal(ABC):\n",
        "    @abstractmethod\n",
        "    def sound(self):\n",
        "        pass\n",
        "\n",
        "# Derived class: Cow\n",
        "class Cow(Animal):\n",
        "    def sound(self):\n",
        "        return \"Moo\"\n",
        "\n",
        "# Derived class: Sheep\n",
        "class Sheep(Animal):\n",
        "    def sound(self):\n",
        "        return \"Baa\"\n",
        "\n",
        "# Example usage\n",
        "cow = Cow()\n",
        "sheep = Sheep()\n",
        "\n",
        "print(\"Cow sound:\", cow.sound())\n",
        "print(\"Sheep sound:\", sheep.sound())\n"
      ],
      "metadata": {
        "colab": {
          "base_uri": "https://localhost:8080/"
        },
        "id": "dRHJj6HVkaR-",
        "outputId": "9f370bce-d3fe-4c13-a0b8-cf9e1e9d6f45"
      },
      "execution_count": 30,
      "outputs": [
        {
          "output_type": "stream",
          "name": "stdout",
          "text": [
            "Cow sound: Moo\n",
            "Sheep sound: Baa\n"
          ]
        }
      ]
    },
    {
      "cell_type": "markdown",
      "source": [
        "17) Create a class Book with attributes title, author, and year_published. Add a method get_book_info() that\n",
        "returns a formatted string with the book's details."
      ],
      "metadata": {
        "id": "HXStH053klkv"
      }
    },
    {
      "cell_type": "code",
      "source": [
        "class Book:\n",
        "    def __init__(self, title, author, year_published):\n",
        "        self.title = title\n",
        "        self.author = author\n",
        "        self.year_published = year_published\n",
        "\n",
        "    def get_book_info(self):\n",
        "        return f\"'{self.title}' by {self.author} (Published: {self.year_published})\"\n",
        "\n",
        "# Example usage\n",
        "book1 = Book(\"To Kill a Mockingbird\", \"Harper Lee\", 1960)\n",
        "print(book1.get_book_info())\n",
        "\n"
      ],
      "metadata": {
        "colab": {
          "base_uri": "https://localhost:8080/"
        },
        "id": "rTS7ppY7kpd3",
        "outputId": "70749c3d-251c-46e2-aaac-5c4e54725b3f"
      },
      "execution_count": 31,
      "outputs": [
        {
          "output_type": "stream",
          "name": "stdout",
          "text": [
            "'To Kill a Mockingbird' by Harper Lee (Published: 1960)\n"
          ]
        }
      ]
    },
    {
      "cell_type": "markdown",
      "source": [
        "18) Create a class House with attributes address and price. Create a derived class Mansion that adds an\n",
        "attribute number_of_rooms."
      ],
      "metadata": {
        "id": "vOZ_2SVdk0kT"
      }
    },
    {
      "cell_type": "code",
      "source": [
        "# Base class\n",
        "class House:\n",
        "    def __init__(self, address, price):\n",
        "        self.address = address\n",
        "        self.price = price\n",
        "\n",
        "# Derived class\n",
        "class Mansion(House):\n",
        "    def __init__(self, address, price, number_of_rooms):\n",
        "        super().__init__(address, price)\n",
        "        self.number_of_rooms = number_of_rooms\n",
        "\n",
        "    def get_info(self):\n",
        "        return (f\"Mansion at {self.address}, priced at ${self.price}, \"\n",
        "                f\"with {self.number_of_rooms} rooms.\")\n",
        "\n",
        "# Example usage\n",
        "m1 = Mansion(\"123 Luxury Lane\", 5000000, 12)\n",
        "print(m1.get_info())\n"
      ],
      "metadata": {
        "colab": {
          "base_uri": "https://localhost:8080/"
        },
        "id": "BJXZ8yxZk3uj",
        "outputId": "3dfed2a2-114f-4c40-9ed8-6fdc21b11df5"
      },
      "execution_count": 32,
      "outputs": [
        {
          "output_type": "stream",
          "name": "stdout",
          "text": [
            "Mansion at 123 Luxury Lane, priced at $5000000, with 12 rooms.\n"
          ]
        }
      ]
    }
  ]
}